{
 "cells": [
  {
   "cell_type": "code",
   "execution_count": 1,
   "metadata": {},
   "outputs": [],
   "source": [
    "import glob\n",
    "import pandas as pd\n",
    "import numpy as np\n",
    "\n",
    "path = 'C:/python/paper/20210506092501'\n",
    "all_files = glob.glob(path + \"/*.csv\")\n",
    "li = []\n",
    "for filename in all_files:\n",
    "    frame = pd.read_csv(filename, index_col = None, header = 0, encoding = 'cp949')\n",
    "    li.append(frame)\n",
    "rain = pd.concat(li, axis = 0, ignore_index = True)\n",
    "\n",
    "rain = rain.drop(['지점', '기온(°C)', '풍향(deg)', '풍속(m/s)', '현지기압(hPa)', '해면기압(hPa)', '습도(%)',\n",
    "                  '일사(MJ/m^2)', '일조(Sec)'], axis = 1)\n",
    "\n",
    "rain = rain.drop_duplicates(['일시'])\n",
    "rain = rain.reset_index(drop = True)\n",
    "\n",
    "rain['time'] = rain['일시'].str.split(':').str[0]\n",
    "\n",
    "rain['time'].value_counts().tail(60)\n",
    "\n",
    "rain = rain.drop_duplicates(['time'], keep = 'last')\n",
    "\n",
    "rain = rain.reset_index(drop = True)\n",
    "\n",
    "rain['date'] = rain['time'].str.split(' ').str[0]\n",
    "\n",
    "rain_list = [0.0]\n",
    "for i in range(1, len(rain)):\n",
    "    rain_list.append(rain['누적강수량(mm)'][i] - rain['누적강수량(mm)'][i-1])\n",
    "\n",
    "len(rain_list)\n",
    "\n",
    "rain['강수량'] = rain_list\n",
    "\n",
    "for i in range(0, len(rain)):\n",
    "    if rain['강수량'][i] < 0:\n",
    "        rain['강수량'][i] = rain['누적강수량(mm)'][i]\n",
    "\n",
    "rain_list = rain['강수량'].values.tolist()\n",
    "rain_list.insert(0, 0)\n",
    "del rain_list[-1]\n",
    "rain['강수량'] = rain_list\n",
    "\n",
    "rain = rain.drop(['일시', '누적강수량(mm)', 'date'], axis = 1)\n",
    "\n",
    "rain"
   ]
  },
  {
   "cell_type": "code",
   "execution_count": null,
   "metadata": {},
   "outputs": [],
   "source": []
  }
 ],
 "metadata": {
  "kernelspec": {
   "display_name": "Python 3",
   "language": "python",
   "name": "python3"
  },
  "language_info": {
   "codemirror_mode": {
    "name": "ipython",
    "version": 3
   },
   "file_extension": ".py",
   "mimetype": "text/x-python",
   "name": "python",
   "nbconvert_exporter": "python",
   "pygments_lexer": "ipython3",
   "version": "3.8.5"
  }
 },
 "nbformat": 4,
 "nbformat_minor": 4
}
