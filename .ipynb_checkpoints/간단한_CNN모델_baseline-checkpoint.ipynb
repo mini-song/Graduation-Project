{
 "cells": [
  {
   "cell_type": "code",
   "execution_count": 1,
   "metadata": {
    "ExecuteTime": {
     "end_time": "2021-05-10T12:22:03.876541Z",
     "start_time": "2021-05-10T12:22:03.775811Z"
    },
    "colab": {
     "base_uri": "https://localhost:8080/"
    },
    "executionInfo": {
     "elapsed": 14668,
     "status": "ok",
     "timestamp": 1618622273901,
     "user": {
      "displayName": "장준보",
      "photoUrl": "https://lh3.googleusercontent.com/a-/AOh14Gi1wOQ7PGKpBDsWEmPjG2rFr7idPoKgnOwi5x4h=s64",
      "userId": "12796992458142872403"
     },
     "user_tz": -540
    },
    "id": "yFerYfCfzMC-",
    "outputId": "7d6d7fae-4525-41f0-950f-a84a7bf7e6f2"
   },
   "outputs": [
    {
     "ename": "ModuleNotFoundError",
     "evalue": "No module named 'google.colab'",
     "output_type": "error",
     "traceback": [
      "\u001b[1;31m---------------------------------------------------------------------------\u001b[0m",
      "\u001b[1;31mModuleNotFoundError\u001b[0m                       Traceback (most recent call last)",
      "\u001b[1;32m<ipython-input-1-d5df0069828e>\u001b[0m in \u001b[0;36m<module>\u001b[1;34m\u001b[0m\n\u001b[1;32m----> 1\u001b[1;33m \u001b[1;32mfrom\u001b[0m \u001b[0mgoogle\u001b[0m\u001b[1;33m.\u001b[0m\u001b[0mcolab\u001b[0m \u001b[1;32mimport\u001b[0m \u001b[0mdrive\u001b[0m\u001b[1;33m\u001b[0m\u001b[1;33m\u001b[0m\u001b[0m\n\u001b[0m\u001b[0;32m      2\u001b[0m \u001b[0mdrive\u001b[0m\u001b[1;33m.\u001b[0m\u001b[0mmount\u001b[0m\u001b[1;33m(\u001b[0m\u001b[1;34m'/content/drive'\u001b[0m\u001b[1;33m)\u001b[0m\u001b[1;33m\u001b[0m\u001b[1;33m\u001b[0m\u001b[0m\n",
      "\u001b[1;31mModuleNotFoundError\u001b[0m: No module named 'google.colab'"
     ]
    }
   ],
   "source": [
    "from google.colab import drive\n",
    "drive.mount('/content/drive')"
   ]
  },
  {
   "cell_type": "code",
   "execution_count": 3,
   "metadata": {
    "ExecuteTime": {
     "end_time": "2021-05-10T12:22:15.386699Z",
     "start_time": "2021-05-10T12:22:15.371740Z"
    },
    "executionInfo": {
     "elapsed": 3542,
     "status": "ok",
     "timestamp": 1618622291582,
     "user": {
      "displayName": "장준보",
      "photoUrl": "https://lh3.googleusercontent.com/a-/AOh14Gi1wOQ7PGKpBDsWEmPjG2rFr7idPoKgnOwi5x4h=s64",
      "userId": "12796992458142872403"
     },
     "user_tz": -540
    },
    "id": "sIIcVHUlzQuc"
   },
   "outputs": [],
   "source": [
    "import pandas as pd\n",
    "import numpy as np\n",
    "import matplotlib.pyplot as plt\n",
    "from sklearn.metrics import r2_score\n",
    "from sklearn.metrics import mean_absolute_error\n",
    "from tqdm import tqdm\n",
    "import tensorflow as tf\n",
    "import keras"
   ]
  },
  {
   "cell_type": "code",
   "execution_count": 4,
   "metadata": {
    "ExecuteTime": {
     "end_time": "2021-05-10T12:22:15.402692Z",
     "start_time": "2021-05-10T12:22:15.388695Z"
    },
    "executionInfo": {
     "elapsed": 2317,
     "status": "ok",
     "timestamp": 1618622291583,
     "user": {
      "displayName": "장준보",
      "photoUrl": "https://lh3.googleusercontent.com/a-/AOh14Gi1wOQ7PGKpBDsWEmPjG2rFr7idPoKgnOwi5x4h=s64",
      "userId": "12796992458142872403"
     },
     "user_tz": -540
    },
    "id": "EGIZmJyHzXES"
   },
   "outputs": [],
   "source": [
    "path = 'data/'"
   ]
  },
  {
   "cell_type": "code",
   "execution_count": 5,
   "metadata": {
    "ExecuteTime": {
     "end_time": "2021-05-10T12:22:15.450529Z",
     "start_time": "2021-05-10T12:22:15.404652Z"
    },
    "executionInfo": {
     "elapsed": 3133,
     "status": "ok",
     "timestamp": 1618622292811,
     "user": {
      "displayName": "장준보",
      "photoUrl": "https://lh3.googleusercontent.com/a-/AOh14Gi1wOQ7PGKpBDsWEmPjG2rFr7idPoKgnOwi5x4h=s64",
      "userId": "12796992458142872403"
     },
     "user_tz": -540
    },
    "id": "LGKSoBVxzYkK"
   },
   "outputs": [],
   "source": [
    "energy = pd.read_csv(path+'energy.csv')"
   ]
  },
  {
   "cell_type": "code",
   "execution_count": 6,
   "metadata": {
    "ExecuteTime": {
     "end_time": "2021-05-10T12:22:15.466515Z",
     "start_time": "2021-05-10T12:22:15.451527Z"
    },
    "executionInfo": {
     "elapsed": 2647,
     "status": "ok",
     "timestamp": 1618622292812,
     "user": {
      "displayName": "장준보",
      "photoUrl": "https://lh3.googleusercontent.com/a-/AOh14Gi1wOQ7PGKpBDsWEmPjG2rFr7idPoKgnOwi5x4h=s64",
      "userId": "12796992458142872403"
     },
     "user_tz": -540
    },
    "id": "ecSiy85LzZ_K"
   },
   "outputs": [],
   "source": [
    "energy['dangjin_floating'] = energy['dangjin_floating'].fillna(0)\n",
    "energy['dangjin_warehouse'] = energy['dangjin_warehouse'].fillna(0)"
   ]
  },
  {
   "cell_type": "code",
   "execution_count": 7,
   "metadata": {
    "ExecuteTime": {
     "end_time": "2021-05-10T12:22:15.482478Z",
     "start_time": "2021-05-10T12:22:15.468483Z"
    },
    "executionInfo": {
     "elapsed": 2459,
     "status": "ok",
     "timestamp": 1618622292812,
     "user": {
      "displayName": "장준보",
      "photoUrl": "https://lh3.googleusercontent.com/a-/AOh14Gi1wOQ7PGKpBDsWEmPjG2rFr7idPoKgnOwi5x4h=s64",
      "userId": "12796992458142872403"
     },
     "user_tz": -540
    },
    "id": "NMom911b4Tdx"
   },
   "outputs": [],
   "source": [
    "def convert_time(x):\n",
    "    Ymd, HMS = x.split(' ')\n",
    "    H, M, S = HMS.split(':')\n",
    "    H = str(int(H)-1)\n",
    "    HMS = ':'.join([H, M, S])\n",
    "    return ' '.join([Ymd, HMS])"
   ]
  },
  {
   "cell_type": "code",
   "execution_count": 8,
   "metadata": {
    "ExecuteTime": {
     "end_time": "2021-05-10T12:22:15.546274Z",
     "start_time": "2021-05-10T12:22:15.485438Z"
    },
    "executionInfo": {
     "elapsed": 2294,
     "status": "ok",
     "timestamp": 1618622292813,
     "user": {
      "displayName": "장준보",
      "photoUrl": "https://lh3.googleusercontent.com/a-/AOh14Gi1wOQ7PGKpBDsWEmPjG2rFr7idPoKgnOwi5x4h=s64",
      "userId": "12796992458142872403"
     },
     "user_tz": -540
    },
    "id": "owBn26Ag4VEG"
   },
   "outputs": [],
   "source": [
    "energy['time'] = energy['time'].apply(lambda x:convert_time(x))"
   ]
  },
  {
   "cell_type": "code",
   "execution_count": 9,
   "metadata": {
    "ExecuteTime": {
     "end_time": "2021-05-10T12:22:15.578193Z",
     "start_time": "2021-05-10T12:22:15.549266Z"
    },
    "executionInfo": {
     "elapsed": 2129,
     "status": "ok",
     "timestamp": 1618622292814,
     "user": {
      "displayName": "장준보",
      "photoUrl": "https://lh3.googleusercontent.com/a-/AOh14Gi1wOQ7PGKpBDsWEmPjG2rFr7idPoKgnOwi5x4h=s64",
      "userId": "12796992458142872403"
     },
     "user_tz": -540
    },
    "id": "IxWGYQ0m06VR"
   },
   "outputs": [],
   "source": [
    "energy['time'] = pd.to_datetime(energy['time'])"
   ]
  },
  {
   "cell_type": "code",
   "execution_count": 10,
   "metadata": {
    "ExecuteTime": {
     "end_time": "2021-05-10T12:22:15.594174Z",
     "start_time": "2021-05-10T12:22:15.581191Z"
    },
    "executionInfo": {
     "elapsed": 1946,
     "status": "ok",
     "timestamp": 1618622292814,
     "user": {
      "displayName": "장준보",
      "photoUrl": "https://lh3.googleusercontent.com/a-/AOh14Gi1wOQ7PGKpBDsWEmPjG2rFr7idPoKgnOwi5x4h=s64",
      "userId": "12796992458142872403"
     },
     "user_tz": -540
    },
    "id": "hEyyuYC407Z8"
   },
   "outputs": [],
   "source": [
    "energy = energy.astype({'dangjin': 'float32'})\n",
    "energy = energy.astype({'ulsan': 'float32'})"
   ]
  },
  {
   "cell_type": "code",
   "execution_count": 11,
   "metadata": {
    "ExecuteTime": {
     "end_time": "2021-05-10T12:22:15.610102Z",
     "start_time": "2021-05-10T12:22:15.597138Z"
    },
    "executionInfo": {
     "elapsed": 1797,
     "status": "ok",
     "timestamp": 1618622292815,
     "user": {
      "displayName": "장준보",
      "photoUrl": "https://lh3.googleusercontent.com/a-/AOh14Gi1wOQ7PGKpBDsWEmPjG2rFr7idPoKgnOwi5x4h=s64",
      "userId": "12796992458142872403"
     },
     "user_tz": -540
    },
    "id": "cm3wAiFF9bRS"
   },
   "outputs": [],
   "source": [
    "energy = energy.set_index('time')"
   ]
  },
  {
   "cell_type": "code",
   "execution_count": 12,
   "metadata": {
    "ExecuteTime": {
     "end_time": "2021-05-10T12:22:15.626093Z",
     "start_time": "2021-05-10T12:22:15.613096Z"
    },
    "colab": {
     "base_uri": "https://localhost:8080/"
    },
    "executionInfo": {
     "elapsed": 583,
     "status": "ok",
     "timestamp": 1618622295453,
     "user": {
      "displayName": "장준보",
      "photoUrl": "https://lh3.googleusercontent.com/a-/AOh14Gi1wOQ7PGKpBDsWEmPjG2rFr7idPoKgnOwi5x4h=s64",
      "userId": "12796992458142872403"
     },
     "user_tz": -540
    },
    "id": "5X3efpId-QRw",
    "outputId": "91b73491-3ba4-4cd1-8e81-e7adc52a59de"
   },
   "outputs": [
    {
     "data": {
      "text/plain": [
       "dangjin_floating     float64\n",
       "dangjin_warehouse    float64\n",
       "dangjin              float32\n",
       "ulsan                float32\n",
       "dtype: object"
      ]
     },
     "execution_count": 12,
     "metadata": {},
     "output_type": "execute_result"
    }
   ],
   "source": [
    "energy.dtypes"
   ]
  },
  {
   "cell_type": "code",
   "execution_count": 13,
   "metadata": {
    "ExecuteTime": {
     "end_time": "2021-05-10T12:22:15.704849Z",
     "start_time": "2021-05-10T12:22:15.669944Z"
    },
    "colab": {
     "base_uri": "https://localhost:8080/"
    },
    "executionInfo": {
     "elapsed": 394,
     "status": "ok",
     "timestamp": 1618622296353,
     "user": {
      "displayName": "장준보",
      "photoUrl": "https://lh3.googleusercontent.com/a-/AOh14Gi1wOQ7PGKpBDsWEmPjG2rFr7idPoKgnOwi5x4h=s64",
      "userId": "12796992458142872403"
     },
     "user_tz": -540
    },
    "id": "J5hmxcFR9uB_",
    "outputId": "631beaf8-3e2f-4008-e26f-0a1e44ce480e"
   },
   "outputs": [
    {
     "data": {
      "text/plain": [
       "((24888, 4), (9528, 4))"
      ]
     },
     "execution_count": 13,
     "metadata": {},
     "output_type": "execute_result"
    }
   ],
   "source": [
    "X_train = energy[:'2020-12-31 23:00:00']\n",
    "X_valid = energy['2020-01-01 00:00:00':'2021-01-31 23:00:00']\n",
    "X_train.shape, X_valid.shape"
   ]
  },
  {
   "cell_type": "code",
   "execution_count": 14,
   "metadata": {
    "ExecuteTime": {
     "end_time": "2021-05-10T12:22:16.003056Z",
     "start_time": "2021-05-10T12:22:15.984103Z"
    },
    "executionInfo": {
     "elapsed": 539,
     "status": "ok",
     "timestamp": 1618622297597,
     "user": {
      "displayName": "장준보",
      "photoUrl": "https://lh3.googleusercontent.com/a-/AOh14Gi1wOQ7PGKpBDsWEmPjG2rFr7idPoKgnOwi5x4h=s64",
      "userId": "12796992458142872403"
     },
     "user_tz": -540
    },
    "id": "fPd1z0RP0zYx"
   },
   "outputs": [],
   "source": [
    "def my_split_window(series, window):\n",
    "    '''\n",
    "    the series is split in (len(series)-window)-blocks of window size, \n",
    "    y is the next value that comes after the block, \n",
    "    every block starts with the next value in the series.\n",
    "    The last block ends with the last-but-one value in the series.\n",
    "    '''\n",
    "    X = []\n",
    "    y = []\n",
    "    n_steps = len(series) - window\n",
    "    for step in range(n_steps):\n",
    "        X.append(series[step:window+step])\n",
    "        y.append(series[step + window])\n",
    "    X = np.array(X)\n",
    "    y = np.array(y)\n",
    "    return X, y"
   ]
  },
  {
   "cell_type": "code",
   "execution_count": 15,
   "metadata": {
    "ExecuteTime": {
     "end_time": "2021-05-10T12:22:16.239421Z",
     "start_time": "2021-05-10T12:22:16.157639Z"
    },
    "executionInfo": {
     "elapsed": 518,
     "status": "ok",
     "timestamp": 1618622298509,
     "user": {
      "displayName": "장준보",
      "photoUrl": "https://lh3.googleusercontent.com/a-/AOh14Gi1wOQ7PGKpBDsWEmPjG2rFr7idPoKgnOwi5x4h=s64",
      "userId": "12796992458142872403"
     },
     "user_tz": -540
    },
    "id": "De7WOdue4pYZ"
   },
   "outputs": [],
   "source": [
    "train_power_series1 = energy.dangjin_floating.values\n",
    "window = 672\n",
    "X, y = my_split_window(train_power_series1, window)"
   ]
  },
  {
   "cell_type": "code",
   "execution_count": null,
   "metadata": {
    "ExecuteTime": {
     "start_time": "2021-05-10T12:22:16.332Z"
    }
   },
   "outputs": [
    {
     "name": "stdout",
     "output_type": "stream",
     "text": [
      "Epoch 1/600\n",
      "780/780 [==============================] - 12s 15ms/step - loss: 50.8903\n",
      "Epoch 2/600\n",
      "780/780 [==============================] - 11s 14ms/step - loss: 32.9103\n",
      "Epoch 3/600\n",
      "780/780 [==============================] - 10s 13ms/step - loss: 30.1740\n",
      "Epoch 4/600\n",
      "780/780 [==============================] - 10s 13ms/step - loss: 28.6992\n",
      "Epoch 5/600\n",
      "780/780 [==============================] - 11s 14ms/step - loss: 28.3454\n",
      "Epoch 6/600\n",
      "780/780 [==============================] - 10s 13ms/step - loss: 27.3655\n",
      "Epoch 7/600\n",
      "780/780 [==============================] - 11s 14ms/step - loss: 26.8689\n",
      "Epoch 8/600\n",
      "780/780 [==============================] - 10s 13ms/step - loss: 26.3307\n",
      "Epoch 9/600\n",
      "780/780 [==============================] - 11s 14ms/step - loss: 25.2049\n",
      "Epoch 10/600\n",
      "578/780 [=====================>........] - ETA: 2s - loss: 25.0468"
     ]
    }
   ],
   "source": [
    "n_features = 1\n",
    "X = X.reshape((X.shape[0], X.shape[1], n_features))\n",
    "# define model\n",
    "model = tf.keras.Sequential()\n",
    "model.add(tf.keras.layers.Conv1D(filters=32, kernel_size=4, activation='relu', \n",
    "                                 input_shape=(window, n_features)))\n",
    "model.add(tf.keras.layers.MaxPooling1D(pool_size=2))\n",
    "model.add(tf.keras.layers.Flatten())\n",
    "model.add(tf.keras.layers.Dense(50, activation='relu'))\n",
    "model.add(tf.keras.layers.Dense(1))\n",
    "model.compile(optimizer='adam', loss='mae') \n",
    "# fit model\n",
    "history = model.fit(X, y, epochs=600, verbose=1)\n",
    "\n",
    "# graph of the loss shows convergence\n",
    "import matplotlib.pyplot as plt\n",
    "plt.plot(history.history['loss'])\n",
    "plt.title('loss')\n",
    "plt.xlabel('epochs')\n",
    "plt.show()"
   ]
  },
  {
   "cell_type": "code",
   "execution_count": null,
   "metadata": {
    "ExecuteTime": {
     "start_time": "2021-05-10T12:22:16.493Z"
    }
   },
   "outputs": [],
   "source": [
    "# predicting next year\n",
    "x_input = np.array(X_train.dangjin_floating[-672:]) #  next value based on data of last year\n",
    "x_input = x_input.reshape((1, window, n_features)) # the model expects three dimensions as input (samples, window, features)\n",
    "\n",
    "for i in range(672):\n",
    "    y_hat = model.predict(x_input, verbose=1)\n",
    "    new_x = y_hat.reshape((1,1,1))\n",
    "    x_input = np.concatenate((x_input[:, -671:], new_x), axis=1)"
   ]
  },
  {
   "cell_type": "code",
   "execution_count": null,
   "metadata": {
    "ExecuteTime": {
     "start_time": "2021-05-10T12:22:16.754Z"
    }
   },
   "outputs": [],
   "source": [
    "y_predicted = x_input.reshape((x_input.shape[1]))\n",
    "plt.plot(y_predicted, label='predicted_power')\n",
    "\n",
    "y_true = X_valid.dangjin_floating.values\n",
    "plt.plot(y_true, label='true_power')\n",
    "plt.legend()\n",
    "plt.show()"
   ]
  },
  {
   "cell_type": "code",
   "execution_count": null,
   "metadata": {
    "ExecuteTime": {
     "start_time": "2021-05-10T12:22:16.912Z"
    }
   },
   "outputs": [],
   "source": [
    "train_power_series2 = energy.dangjin_warehouse.values\n",
    "window = 672\n",
    "X, y = my_split_window(train_power_series2, window)"
   ]
  },
  {
   "cell_type": "code",
   "execution_count": null,
   "metadata": {
    "ExecuteTime": {
     "start_time": "2021-05-10T12:22:17.116Z"
    }
   },
   "outputs": [],
   "source": [
    "n_features = 1\n",
    "X = X.reshape((X.shape[0], X.shape[1], n_features))\n",
    "# define model\n",
    "model1 = tf.keras.Sequential()\n",
    "model1.add(tf.keras.layers.Conv1D(filters=32, kernel_size=4, activation='relu', \n",
    "                                 input_shape=(window, n_features)))\n",
    "model1.add(tf.keras.layers.MaxPooling1D(pool_size=2))\n",
    "model1.add(tf.keras.layers.Flatten())\n",
    "model1.add(tf.keras.layers.Dense(50, activation='relu'))\n",
    "model1.add(tf.keras.layers.Dense(1))\n",
    "model1.compile(optimizer='adam', loss='mae') \n",
    "# fit model\n",
    "history1 = model1.fit(X, y, epochs=600, verbose=1)"
   ]
  },
  {
   "cell_type": "code",
   "execution_count": null,
   "metadata": {
    "ExecuteTime": {
     "start_time": "2021-05-10T12:22:17.278Z"
    }
   },
   "outputs": [],
   "source": [
    "# predicting next year\n",
    "x_input1 = np.array(X_train.dangjin_warehouse[-672:]) #  next value based on data of last year\n",
    "x_input1 = x_input1.reshape((1, window, n_features)) # the model expects three dimensions as input (samples, window, features)\n",
    "\n",
    "for i in range(672):\n",
    "    y_hat1 = model1.predict(x_input1, verbose=1)\n",
    "    new_x1 = y_hat1.reshape((1,1,1))\n",
    "    x_input1 = np.concatenate((x_input1[:, -671:], new_x1), axis=1)"
   ]
  },
  {
   "cell_type": "code",
   "execution_count": null,
   "metadata": {
    "ExecuteTime": {
     "start_time": "2021-05-10T12:22:17.456Z"
    }
   },
   "outputs": [],
   "source": [
    "y_predicted1 = x_input1.reshape((x_input1.shape[1]))\n",
    "plt.plot(y_predicted1, label='predicted_power')\n",
    "\n",
    "y_true1 = X_valid.dangjin_warehouse.values\n",
    "plt.plot(y_true1, label='true_power')\n",
    "plt.legend()\n",
    "plt.show()"
   ]
  },
  {
   "cell_type": "code",
   "execution_count": null,
   "metadata": {
    "ExecuteTime": {
     "start_time": "2021-05-10T12:22:18.011Z"
    }
   },
   "outputs": [],
   "source": [
    "train_power_series3 = energy.dangjin.values\n",
    "window = 672\n",
    "X, y = my_split_window(train_power_series3, window)"
   ]
  },
  {
   "cell_type": "code",
   "execution_count": null,
   "metadata": {
    "ExecuteTime": {
     "start_time": "2021-05-10T12:22:18.201Z"
    }
   },
   "outputs": [],
   "source": [
    "n_features = 1\n",
    "X = X.reshape((X.shape[0], X.shape[1], n_features))\n",
    "# define model\n",
    "model2 = tf.keras.Sequential()\n",
    "model2.add(tf.keras.layers.Conv1D(filters=32, kernel_size=4, activation='relu', \n",
    "                                 input_shape=(window, n_features)))\n",
    "model2.add(tf.keras.layers.MaxPooling1D(pool_size=2))\n",
    "model2.add(tf.keras.layers.Flatten())\n",
    "model2.add(tf.keras.layers.Dense(50, activation='relu'))\n",
    "model2.add(tf.keras.layers.Dense(1))\n",
    "model2.compile(optimizer='adam', loss='mae') \n",
    "# fit model\n",
    "history2 = model2.fit(X, y, epochs=600, verbose=1)"
   ]
  },
  {
   "cell_type": "code",
   "execution_count": null,
   "metadata": {
    "ExecuteTime": {
     "start_time": "2021-05-10T12:22:18.411Z"
    }
   },
   "outputs": [],
   "source": [
    "# predicting next year\n",
    "x_input2 = np.array(X_train.dangjin[-672:]) #  next value based on data of last year\n",
    "x_input2 = x_input2.reshape((1, window, n_features)) # the model expects three dimensions as input (samples, window, features)\n",
    "\n",
    "for i in range(672):\n",
    "    y_hat2 = model2.predict(x_input2, verbose=1)\n",
    "    new_x2 = y_hat2.reshape((1,1,1))\n",
    "    x_input2 = np.concatenate((x_input2[:, -671:], new_x2), axis=1)"
   ]
  },
  {
   "cell_type": "code",
   "execution_count": null,
   "metadata": {
    "ExecuteTime": {
     "start_time": "2021-05-10T12:22:18.965Z"
    }
   },
   "outputs": [],
   "source": [
    "y_predicted2 = x_input2.reshape((x_input2.shape[1]))\n",
    "plt.plot(y_predicted2, label='predicted_power')\n",
    "\n",
    "y_true2 = X_valid.dangjin.values\n",
    "plt.plot(y_true2, label='true_power')\n",
    "plt.legend()\n",
    "plt.show()"
   ]
  },
  {
   "cell_type": "code",
   "execution_count": null,
   "metadata": {
    "ExecuteTime": {
     "start_time": "2021-05-10T12:22:19.284Z"
    }
   },
   "outputs": [],
   "source": [
    "train_power_series4 = energy.ulsan.values\n",
    "window = 672\n",
    "X, y = my_split_window(train_power_series4, window)"
   ]
  },
  {
   "cell_type": "code",
   "execution_count": null,
   "metadata": {
    "ExecuteTime": {
     "start_time": "2021-05-10T12:22:19.457Z"
    }
   },
   "outputs": [],
   "source": [
    "n_features = 1\n",
    "X = X.reshape((X.shape[0], X.shape[1], n_features))\n",
    "# define model\n",
    "model3 = tf.keras.Sequential()\n",
    "model3.add(tf.keras.layers.Conv1D(filters=32, kernel_size=4, activation='relu', \n",
    "                                 input_shape=(window, n_features)))\n",
    "model3.add(tf.keras.layers.MaxPooling1D(pool_size=2))\n",
    "model3.add(tf.keras.layers.Flatten())\n",
    "model3.add(tf.keras.layers.Dense(50, activation='relu'))\n",
    "model3.add(tf.keras.layers.Dense(1))\n",
    "model3.compile(optimizer='adam', loss='mae') \n",
    "# fit model\n",
    "history3 = model3.fit(X, y, epochs=600, verbose=1)"
   ]
  },
  {
   "cell_type": "code",
   "execution_count": null,
   "metadata": {
    "ExecuteTime": {
     "start_time": "2021-05-10T12:22:19.652Z"
    }
   },
   "outputs": [],
   "source": [
    "# predicting next year\n",
    "x_input3 = np.array(X_train.ulsan[-672:]) #  next value based on data of last year\n",
    "x_input3 = x_input3.reshape((1, window, n_features)) # the model expects three dimensions as input (samples, window, features)\n",
    "\n",
    "for i in range(672):\n",
    "    y_hat3 = model3.predict(x_input3, verbose=1)\n",
    "    new_x3 = y_hat3.reshape((1,1,1))\n",
    "    x_input3 = np.concatenate((x_input3[:, -671:], new_x3), axis=1)"
   ]
  },
  {
   "cell_type": "code",
   "execution_count": null,
   "metadata": {
    "ExecuteTime": {
     "start_time": "2021-05-10T12:22:19.831Z"
    }
   },
   "outputs": [],
   "source": [
    "y_predicted3 = x_input3.reshape((x_input3.shape[1]))\n",
    "plt.plot(y_predicted3, label='predicted_power')\n",
    "\n",
    "y_true3 = X_valid.ulsan.values\n",
    "plt.plot(y_true3, label='true_power')\n",
    "plt.legend()\n",
    "plt.show()"
   ]
  },
  {
   "cell_type": "code",
   "execution_count": null,
   "metadata": {
    "ExecuteTime": {
     "start_time": "2021-05-10T12:22:20.006Z"
    },
    "id": "Fq7CSp7flJPF"
   },
   "outputs": [],
   "source": [
    "submission = pd.read_csv(path+'sample_submission.csv')"
   ]
  },
  {
   "cell_type": "code",
   "execution_count": null,
   "metadata": {
    "ExecuteTime": {
     "start_time": "2021-05-10T12:22:20.203Z"
    },
    "id": "xhg21rZX_95B"
   },
   "outputs": [],
   "source": [
    "submission.iloc[:24*28, 1] = y_predicted\n",
    "submission.iloc[:24*28, 2] = y_predicted1\n",
    "submission.iloc[:24*28, 3] = y_predicted2\n",
    "submission.iloc[:24*28, 4] = y_predicted3"
   ]
  },
  {
   "cell_type": "code",
   "execution_count": null,
   "metadata": {
    "ExecuteTime": {
     "start_time": "2021-05-10T12:22:20.376Z"
    },
    "id": "WFC3ClrflLTC"
   },
   "outputs": [],
   "source": [
    "submission"
   ]
  },
  {
   "cell_type": "code",
   "execution_count": null,
   "metadata": {
    "ExecuteTime": {
     "start_time": "2021-05-10T12:22:20.547Z"
    },
    "id": "l42A3FOTMuOQ"
   },
   "outputs": [],
   "source": [
    "submission.to_csv(path+'submission_CNN.csv', index=False)"
   ]
  },
  {
   "cell_type": "code",
   "execution_count": null,
   "metadata": {
    "id": "siSGhlf0NEwY"
   },
   "outputs": [],
   "source": []
  },
  {
   "cell_type": "code",
   "execution_count": null,
   "metadata": {},
   "outputs": [],
   "source": []
  },
  {
   "cell_type": "code",
   "execution_count": null,
   "metadata": {},
   "outputs": [],
   "source": []
  }
 ],
 "metadata": {
  "accelerator": "TPU",
  "colab": {
   "authorship_tag": "ABX9TyOf1QRiqFPXvjuK1bK5UkYj",
   "collapsed_sections": [],
   "machine_shape": "hm",
   "name": "solar_power_LSTM_CNN.ipynb",
   "provenance": []
  },
  "hide_input": false,
  "kernelspec": {
   "display_name": "Python 3",
   "language": "python",
   "name": "python3"
  }
 },
 "nbformat": 4,
 "nbformat_minor": 1
}
