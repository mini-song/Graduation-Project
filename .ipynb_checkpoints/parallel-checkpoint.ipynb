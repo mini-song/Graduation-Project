{
 "cells": [
  {
   "cell_type": "code",
   "execution_count": 5,
   "metadata": {
    "ExecuteTime": {
     "end_time": "2021-05-14T08:33:54.582130Z",
     "start_time": "2021-05-14T08:33:54.568167Z"
    }
   },
   "outputs": [],
   "source": [
    "import numpy as np\n",
    "def parallel_processing(dataframe, function, num_cores):\n",
    "    import numpy as np\n",
    "    '''\n",
    "    forecast 컬럼을 예보데이터가 나타내는 시간으로 변경하는 함수가 forecast_change.\n",
    "    멀티 프로세싱으로 처리하기 위한 함수.\n",
    "    '''\n",
    "    \n",
    "    import time\n",
    "    start = time.time()\n",
    "    df_split = numpy.array_split(dataframe, num_cores)\n",
    "    pool = Pool(num_cores)\n",
    "    dataframe = pd.concat(pool.map(function, df_split))\n",
    "    pool.close()\n",
    "    pool.join()\n",
    "\n",
    "    print('\\n\\n\\n',f'processing time : {time.time()-start} s')\n",
    "    \n",
    "    return dataframe "
   ]
  },
  {
   "cell_type": "code",
   "execution_count": null,
   "metadata": {},
   "outputs": [],
   "source": []
  }
 ],
 "metadata": {
  "hide_input": false,
  "jupytext": {
   "encoding": "# -*- coding: utf-8 -*-",
   "formats": "ipynb,py:light"
  },
  "kernelspec": {
   "display_name": "Python 3",
   "language": "python",
   "name": "python3"
  },
  "language_info": {
   "codemirror_mode": {
    "name": "ipython",
    "version": 3
   },
   "file_extension": ".py",
   "mimetype": "text/x-python",
   "name": "python",
   "nbconvert_exporter": "python",
   "pygments_lexer": "ipython3",
   "version": "3.7.6"
  }
 },
 "nbformat": 4,
 "nbformat_minor": 4
}
